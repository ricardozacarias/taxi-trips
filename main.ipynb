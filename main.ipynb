{
 "cells": [
  {
   "cell_type": "markdown",
   "metadata": {},
   "source": [
    "# Taxi trips\n",
    "\n",
    "The yellow and green taxi trip records include fields capturing pick-up and drop-off dates/times, pick-up and drop-off locations, trip distances, itemized fares, rate types, payment types, and driver-reported passenger counts. The data used in the attached datasets were collected and provided to the NYC Taxi and Limousine Commission (TLC) by technology providers authorized under the Taxicab & Livery Passenger Enhancement Programs (TPEP/LPEP). The trip data was not created by the TLC, and TLC makes no representations as to the accuracy of these data.\n",
    "\n",
    "Data can be found [here](https://www1.nyc.gov/site/tlc/about/tlc-trip-record-data.page)."
   ]
  },
  {
   "cell_type": "code",
   "execution_count": 64,
   "metadata": {},
   "outputs": [],
   "source": [
    "import pandas as pd\n",
    "import numpy as np\n",
    "import matplotlib.pyplot as plt\n",
    "from datetime import datetime as dt\n",
    "from scipy import stats\n",
    "\n",
    "path = 'C:/Users/Zaca/Documents/Datasets/taxis/yellow_tripdata_2017-06.csv'"
   ]
  },
  {
   "cell_type": "code",
   "execution_count": null,
   "metadata": {},
   "outputs": [],
   "source": [
    "# open data and explore\n",
    "taxi = pd.read_csv(path)"
   ]
  },
  {
   "cell_type": "code",
   "execution_count": null,
   "metadata": {},
   "outputs": [],
   "source": [
    "# looking at the size of the data\n",
    "taxi.shape"
   ]
  },
  {
   "cell_type": "markdown",
   "metadata": {},
   "source": [
    "A dictionary to each column description can be found [here](https://www1.nyc.gov/assets/tlc/downloads/pdf/data_dictionary_trip_records_yellow.pdf)."
   ]
  },
  {
   "cell_type": "code",
   "execution_count": null,
   "metadata": {},
   "outputs": [],
   "source": [
    "# examine the data\n",
    "taxi.head()"
   ]
  },
  {
   "cell_type": "code",
   "execution_count": null,
   "metadata": {},
   "outputs": [],
   "source": [
    "# examine dtypes\n",
    "taxi.dtypes"
   ]
  },
  {
   "cell_type": "code",
   "execution_count": null,
   "metadata": {},
   "outputs": [],
   "source": [
    "# checking for nans\n",
    "taxi.isna().sum()\n",
    "# beautiful"
   ]
  },
  {
   "cell_type": "markdown",
   "metadata": {},
   "source": [
    "# Exploring and understanding column content"
   ]
  },
  {
   "cell_type": "markdown",
   "metadata": {},
   "source": [
    "**VendorID**: code indicating the TPEP provider that provided the record. \n",
    "- The TLC (Taxi-Limousine Comission) requires all medallion taxicabs to be equipped with a Taxicab Technology System (“T-PEP”), which processes credit, debit, and prepaid card payments, enables taxicab drivers to receive text messages from the TLC, allows the TLC to collect electronic trip sheet data, and possesses a Passenger Information Monitor (“PIM”), which displays content to taxicab passengers."
   ]
  },
  {
   "cell_type": "code",
   "execution_count": null,
   "metadata": {},
   "outputs": [],
   "source": [
    "# vendorID\n",
    "taxi.VendorID.value_counts()\n",
    "# I don't I'll be very interested in this column for my analysis.\n"
   ]
  },
  {
   "cell_type": "markdown",
   "metadata": {},
   "source": [
    "**passenger_count**: the number of passengers in the vehicle. This is a driver-entered value."
   ]
  },
  {
   "cell_type": "code",
   "execution_count": null,
   "metadata": {},
   "outputs": [],
   "source": [
    "taxi.passenger_count.value_counts()\n",
    "\n",
    "# there are some trips with zero passengers. because this is a driver input value,\n",
    "# I think zeros are probably mistakes. In any case they are only 595 in 10M, so we can remove them later."
   ]
  },
  {
   "cell_type": "markdown",
   "metadata": {},
   "source": [
    "**trip_distance**: the elapsed trip distance in miles reported by the taximeter."
   ]
  },
  {
   "cell_type": "code",
   "execution_count": null,
   "metadata": {},
   "outputs": [],
   "source": [
    "print(taxi.trip_distance.describe())\n",
    "# the seems to be a 600 mile trip as maximum. This doesn't feel like your normal taxi trip in NYC.\n",
    "# we might be interested in removing these outliers.\n",
    "\n",
    "plt.hist(taxi.trip_distance, bins=100, range=(0, 20));"
   ]
  },
  {
   "cell_type": "markdown",
   "metadata": {},
   "source": [
    "**RatecodeID**: the final rate code in effect at the end of the trip.\n",
    "1. Standard rate\n",
    "2. JFK\n",
    "3. Newark\n",
    "4. Nassau or Westchester\n",
    "5. Negotiated fare\n",
    "6. Group ride\n"
   ]
  },
  {
   "cell_type": "code",
   "execution_count": null,
   "metadata": {},
   "outputs": [],
   "source": [
    "# ratecodeID\n",
    "taxi.RatecodeID.value_counts()\n",
    "# the number 99 is probably some error in the system\n",
    "# nonetheless, I think I might only be interested in keeping the normal fare, it's most of the data anyway."
   ]
  },
  {
   "cell_type": "markdown",
   "metadata": {},
   "source": [
    "**Store_and_fwd_flag**: this flag indicates whether the trip record was held in vehicle memory before sending to the vendor, aka “store and forward,” because the vehicle did not have a connection to the server."
   ]
  },
  {
   "cell_type": "code",
   "execution_count": null,
   "metadata": {
    "scrolled": true
   },
   "outputs": [],
   "source": [
    "# store and forward\n",
    "taxi.store_and_fwd_flag.value_counts()\n",
    "\n",
    "# doesn't seem to have much interest."
   ]
  },
  {
   "cell_type": "markdown",
   "metadata": {},
   "source": [
    "**PULocationID**: TLC Taxi Zone in which the taximeter was engaged."
   ]
  },
  {
   "cell_type": "code",
   "execution_count": null,
   "metadata": {},
   "outputs": [],
   "source": [
    "# pick-up-location code has 261 unique values\n",
    "taxi.PULocationID.value_counts()\n",
    "\n",
    "# this is a pretty important variable, i'm probably gonna have to think of a way of dealing with those later."
   ]
  },
  {
   "cell_type": "markdown",
   "metadata": {},
   "source": [
    "**DOLocationID**: TLC Taxi Zone in which the taximeter was disengaged."
   ]
  },
  {
   "cell_type": "code",
   "execution_count": null,
   "metadata": {},
   "outputs": [],
   "source": [
    "# drop-off location has 262 unique values.\n",
    "taxi.DOLocationID.value_counts()"
   ]
  },
  {
   "cell_type": "markdown",
   "metadata": {},
   "source": [
    "**payment_type**: a numeric code signifying how the passenger paid for the trip.\n",
    "1. Credit card\n",
    "2. Cash\n",
    "3. No charge\n",
    "4. Dispute\n",
    "5. Unknown\n",
    "6. Voided trip"
   ]
  },
  {
   "cell_type": "code",
   "execution_count": null,
   "metadata": {
    "scrolled": true
   },
   "outputs": [],
   "source": [
    "taxi.payment_type.value_counts()\n",
    "# In the payment type we can observe one of the main problems with the data.\n",
    "# Tips are only included for credit card payments.\n",
    "# We might have to only include these rides in our tip recommendation system."
   ]
  },
  {
   "cell_type": "markdown",
   "metadata": {},
   "source": [
    "**fare_amount**: the time-and-distance fare calculated by the meter."
   ]
  },
  {
   "cell_type": "code",
   "execution_count": null,
   "metadata": {},
   "outputs": [],
   "source": [
    "print(taxi.fare_amount.describe())\n",
    "\n",
    "# it seems like there was a trip worth 175k, that doesn't sound right at all.\n",
    "\n",
    "plt.hist(taxi.fare_amount, bins=100, range=(0, 100));\n",
    "\n",
    "# there's a couple of weird things here:\n",
    "# there are some negative values. if we assume this is an error we can solve it by taking the absolute.\n",
    "# there's always a weird peak at 52$. \n",
    "\n",
    "# taxi.fare_amount.value_counts() here I should detect the peak using the mode between 40-60 or something like that.\n",
    "\n",
    "taxi[taxi.fare_amount == 52]['RatecodeID'].value_counts(normalize=True)\n",
    "\n",
    "# it seems that a lot of this errors come from zone 132.\n",
    "# ok I figured it out, it seems to be something static about the fare from JFK Airport.\n",
    "# this is solves if we only include trips with ratecode 1"
   ]
  },
  {
   "cell_type": "markdown",
   "metadata": {},
   "source": [
    "**extra**: Miscellaneous extras and surcharges. Currently, this only includes the .5 and 1 dollar rush hour and overnight charges."
   ]
  },
  {
   "cell_type": "code",
   "execution_count": null,
   "metadata": {},
   "outputs": [],
   "source": [
    "taxi.extra.value_counts()"
   ]
  },
  {
   "cell_type": "markdown",
   "metadata": {},
   "source": [
    "**improvement_surcharge**: 0.30 dollar improvement surcharge assessed trips at the flag drop. The improvement surcharge began being levied in 2015."
   ]
  },
  {
   "cell_type": "code",
   "execution_count": null,
   "metadata": {},
   "outputs": [],
   "source": [
    "# this charge seems to be present in all of the trips so it doesn't have much information.\n",
    "taxi.improvement_surcharge.value_counts()"
   ]
  },
  {
   "cell_type": "code",
   "execution_count": null,
   "metadata": {
    "scrolled": true
   },
   "outputs": [],
   "source": [
    "# this column is the same as the improvement surcharge.\n",
    "taxi.mta_tax.value_counts()"
   ]
  },
  {
   "cell_type": "markdown",
   "metadata": {},
   "source": [
    "**tip_amount**: This field is automatically populated for credit card tips. Cash tips are not included."
   ]
  },
  {
   "cell_type": "code",
   "execution_count": null,
   "metadata": {},
   "outputs": [],
   "source": [
    "# the target variable for our purposes\n",
    "taxi.tip_amount.describe()\n",
    "#plt.hist(taxi.tip_amount, bins=100);"
   ]
  },
  {
   "cell_type": "markdown",
   "metadata": {},
   "source": [
    "**toll_amount**: Total amount of all tolls paid in trip. "
   ]
  },
  {
   "cell_type": "code",
   "execution_count": null,
   "metadata": {},
   "outputs": [],
   "source": [
    "taxi.tolls_amount.value_counts()\n",
    "plt.hist(taxi.tolls_amount, log=True);"
   ]
  },
  {
   "cell_type": "code",
   "execution_count": null,
   "metadata": {},
   "outputs": [],
   "source": [
    "date columns"
   ]
  },
  {
   "cell_type": "code",
   "execution_count": null,
   "metadata": {},
   "outputs": [],
   "source": [
    "# transforming to datetime\n",
    "taxi['tpep_pickup_datetime'] = pd.to_datetime(taxi['tpep_pickup_datetime'])\n",
    "taxi['tpep_dropoff_datetime'] = pd.to_datetime(taxi['tpep_dropoff_datetime'])"
   ]
  },
  {
   "cell_type": "code",
   "execution_count": null,
   "metadata": {},
   "outputs": [],
   "source": [
    "taxi['duration'] = taxi['tpep_dropoff_datetime'] - taxi['tpep_pickup_datetime']\n",
    "taxi['duration'] = taxi['duration'].dt.seconds/60\n",
    "taxi['weekday'] = [x.weekday() for x in taxi['tpep_pickup_datetime']]\n",
    "taxi['hour'] = taxi['tpep_pickup_datetime'].dt.hour"
   ]
  },
  {
   "cell_type": "markdown",
   "metadata": {},
   "source": [
    "# Data cleaning"
   ]
  },
  {
   "cell_type": "code",
   "execution_count": null,
   "metadata": {},
   "outputs": [],
   "source": [
    "taxi.columns"
   ]
  },
  {
   "cell_type": "code",
   "execution_count": null,
   "metadata": {},
   "outputs": [],
   "source": [
    "# droping columns\n",
    "drop_cols = ['VendorID', 'store_and_fwd_flag', 'mta_tax', 'improvement_surcharge', 'tpep_pickup_datetime', 'tpep_dropoff_datetime']\n",
    "taxi.drop(labels=drop_cols, axis=1, inplace=True)"
   ]
  },
  {
   "cell_type": "code",
   "execution_count": null,
   "metadata": {},
   "outputs": [],
   "source": [
    "# removing 0 passengers\n",
    "taxi = taxi[(taxi.passenger_count != 0) & (taxi.RatecodeID == 1) & (taxi.payment_type == 1)]"
   ]
  },
  {
   "cell_type": "code",
   "execution_count": null,
   "metadata": {},
   "outputs": [],
   "source": [
    "plt.hist(taxi.fare_amount, bins=100);"
   ]
  },
  {
   "cell_type": "code",
   "execution_count": null,
   "metadata": {},
   "outputs": [],
   "source": [
    "z = np.abs(stats.zscore(taxi))"
   ]
  },
  {
   "cell_type": "code",
   "execution_count": null,
   "metadata": {},
   "outputs": [],
   "source": [
    "taxi_o = taxi[(z < 3).all(axis=1)]"
   ]
  },
  {
   "cell_type": "code",
   "execution_count": null,
   "metadata": {},
   "outputs": [],
   "source": []
  },
  {
   "cell_type": "code",
   "execution_count": null,
   "metadata": {},
   "outputs": [],
   "source": []
  },
  {
   "cell_type": "code",
   "execution_count": null,
   "metadata": {},
   "outputs": [],
   "source": []
  }
 ],
 "metadata": {
  "kernelspec": {
   "display_name": "Python 3",
   "language": "python",
   "name": "python3"
  },
  "language_info": {
   "codemirror_mode": {
    "name": "ipython",
    "version": 3
   },
   "file_extension": ".py",
   "mimetype": "text/x-python",
   "name": "python",
   "nbconvert_exporter": "python",
   "pygments_lexer": "ipython3",
   "version": "3.7.6"
  }
 },
 "nbformat": 4,
 "nbformat_minor": 4
}
