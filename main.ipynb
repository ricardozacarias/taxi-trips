{
 "cells": [
  {
   "cell_type": "markdown",
   "metadata": {},
   "source": [
    "# Taxi trips\n",
    "\n",
    "The yellow and green taxi trip records include fields capturing pick-up and drop-off dates/times, pick-up and drop-off locations, trip distances, itemized fares, rate types, payment types, and driver-reported passenger counts. The data used in the attached datasets were collected and provided to the NYC Taxi and Limousine Commission (TLC) by technology providers authorized under the Taxicab & Livery Passenger Enhancement Programs (TPEP/LPEP). The trip data was not created by the TLC, and TLC makes no representations as to the accuracy of these data.\n",
    "\n",
    "Data can be found [here](https://www1.nyc.gov/site/tlc/about/tlc-trip-record-data.page)."
   ]
  },
  {
   "cell_type": "code",
   "execution_count": 85,
   "metadata": {},
   "outputs": [],
   "source": [
    "import pandas as pd\n",
    "import numpy as np\n",
    "import matplotlib.pyplot as plt\n",
    "from datetime import datetime as dt\n",
    "from scipy import stats\n",
    "\n",
    "path = 'C:/Users/Zaca/Documents/Datasets/taxis/yellow_tripdata_2017-06.csv'"
   ]
  },
  {
   "cell_type": "code",
   "execution_count": 86,
   "metadata": {},
   "outputs": [],
   "source": [
    "# open data and explore\n",
    "taxi = pd.read_csv(path)"
   ]
  },
  {
   "cell_type": "code",
   "execution_count": 87,
   "metadata": {},
   "outputs": [
    {
     "data": {
      "text/plain": [
       "(9656993, 17)"
      ]
     },
     "execution_count": 87,
     "metadata": {},
     "output_type": "execute_result"
    }
   ],
   "source": [
    "# looking at the size of the data\n",
    "taxi.shape"
   ]
  },
  {
   "cell_type": "markdown",
   "metadata": {},
   "source": [
    "A dictionary to each column description can be found [here](https://www1.nyc.gov/assets/tlc/downloads/pdf/data_dictionary_trip_records_yellow.pdf)."
   ]
  },
  {
   "cell_type": "code",
   "execution_count": 88,
   "metadata": {},
   "outputs": [
    {
     "data": {
      "text/html": [
       "<div>\n",
       "<style scoped>\n",
       "    .dataframe tbody tr th:only-of-type {\n",
       "        vertical-align: middle;\n",
       "    }\n",
       "\n",
       "    .dataframe tbody tr th {\n",
       "        vertical-align: top;\n",
       "    }\n",
       "\n",
       "    .dataframe thead th {\n",
       "        text-align: right;\n",
       "    }\n",
       "</style>\n",
       "<table border=\"1\" class=\"dataframe\">\n",
       "  <thead>\n",
       "    <tr style=\"text-align: right;\">\n",
       "      <th></th>\n",
       "      <th>VendorID</th>\n",
       "      <th>tpep_pickup_datetime</th>\n",
       "      <th>tpep_dropoff_datetime</th>\n",
       "      <th>passenger_count</th>\n",
       "      <th>trip_distance</th>\n",
       "      <th>RatecodeID</th>\n",
       "      <th>store_and_fwd_flag</th>\n",
       "      <th>PULocationID</th>\n",
       "      <th>DOLocationID</th>\n",
       "      <th>payment_type</th>\n",
       "      <th>fare_amount</th>\n",
       "      <th>extra</th>\n",
       "      <th>mta_tax</th>\n",
       "      <th>tip_amount</th>\n",
       "      <th>tolls_amount</th>\n",
       "      <th>improvement_surcharge</th>\n",
       "      <th>total_amount</th>\n",
       "    </tr>\n",
       "  </thead>\n",
       "  <tbody>\n",
       "    <tr>\n",
       "      <th>0</th>\n",
       "      <td>2</td>\n",
       "      <td>2017-06-08 07:52:31</td>\n",
       "      <td>2017-06-08 08:01:32</td>\n",
       "      <td>6</td>\n",
       "      <td>1.03</td>\n",
       "      <td>1</td>\n",
       "      <td>N</td>\n",
       "      <td>161</td>\n",
       "      <td>140</td>\n",
       "      <td>1</td>\n",
       "      <td>7.5</td>\n",
       "      <td>1.0</td>\n",
       "      <td>0.5</td>\n",
       "      <td>1.86</td>\n",
       "      <td>0.0</td>\n",
       "      <td>0.3</td>\n",
       "      <td>11.16</td>\n",
       "    </tr>\n",
       "    <tr>\n",
       "      <th>1</th>\n",
       "      <td>2</td>\n",
       "      <td>2017-06-08 08:08:18</td>\n",
       "      <td>2017-06-08 08:14:00</td>\n",
       "      <td>6</td>\n",
       "      <td>1.03</td>\n",
       "      <td>1</td>\n",
       "      <td>N</td>\n",
       "      <td>162</td>\n",
       "      <td>233</td>\n",
       "      <td>1</td>\n",
       "      <td>6.0</td>\n",
       "      <td>1.0</td>\n",
       "      <td>0.5</td>\n",
       "      <td>2.34</td>\n",
       "      <td>0.0</td>\n",
       "      <td>0.3</td>\n",
       "      <td>10.14</td>\n",
       "    </tr>\n",
       "    <tr>\n",
       "      <th>2</th>\n",
       "      <td>2</td>\n",
       "      <td>2017-06-08 08:16:49</td>\n",
       "      <td>2017-06-08 15:43:22</td>\n",
       "      <td>6</td>\n",
       "      <td>5.63</td>\n",
       "      <td>1</td>\n",
       "      <td>N</td>\n",
       "      <td>137</td>\n",
       "      <td>41</td>\n",
       "      <td>2</td>\n",
       "      <td>21.5</td>\n",
       "      <td>1.0</td>\n",
       "      <td>0.5</td>\n",
       "      <td>0.00</td>\n",
       "      <td>0.0</td>\n",
       "      <td>0.3</td>\n",
       "      <td>23.30</td>\n",
       "    </tr>\n",
       "    <tr>\n",
       "      <th>3</th>\n",
       "      <td>2</td>\n",
       "      <td>2017-06-29 15:52:35</td>\n",
       "      <td>2017-06-29 16:03:27</td>\n",
       "      <td>6</td>\n",
       "      <td>1.43</td>\n",
       "      <td>1</td>\n",
       "      <td>N</td>\n",
       "      <td>142</td>\n",
       "      <td>48</td>\n",
       "      <td>1</td>\n",
       "      <td>8.5</td>\n",
       "      <td>1.0</td>\n",
       "      <td>0.5</td>\n",
       "      <td>0.88</td>\n",
       "      <td>0.0</td>\n",
       "      <td>0.3</td>\n",
       "      <td>11.18</td>\n",
       "    </tr>\n",
       "    <tr>\n",
       "      <th>4</th>\n",
       "      <td>1</td>\n",
       "      <td>2017-06-01 00:00:00</td>\n",
       "      <td>2017-06-01 00:03:43</td>\n",
       "      <td>1</td>\n",
       "      <td>0.60</td>\n",
       "      <td>1</td>\n",
       "      <td>N</td>\n",
       "      <td>140</td>\n",
       "      <td>141</td>\n",
       "      <td>1</td>\n",
       "      <td>4.5</td>\n",
       "      <td>0.5</td>\n",
       "      <td>0.5</td>\n",
       "      <td>2.00</td>\n",
       "      <td>0.0</td>\n",
       "      <td>0.3</td>\n",
       "      <td>7.80</td>\n",
       "    </tr>\n",
       "  </tbody>\n",
       "</table>\n",
       "</div>"
      ],
      "text/plain": [
       "   VendorID tpep_pickup_datetime tpep_dropoff_datetime  passenger_count  \\\n",
       "0         2  2017-06-08 07:52:31   2017-06-08 08:01:32                6   \n",
       "1         2  2017-06-08 08:08:18   2017-06-08 08:14:00                6   \n",
       "2         2  2017-06-08 08:16:49   2017-06-08 15:43:22                6   \n",
       "3         2  2017-06-29 15:52:35   2017-06-29 16:03:27                6   \n",
       "4         1  2017-06-01 00:00:00   2017-06-01 00:03:43                1   \n",
       "\n",
       "   trip_distance  RatecodeID store_and_fwd_flag  PULocationID  DOLocationID  \\\n",
       "0           1.03           1                  N           161           140   \n",
       "1           1.03           1                  N           162           233   \n",
       "2           5.63           1                  N           137            41   \n",
       "3           1.43           1                  N           142            48   \n",
       "4           0.60           1                  N           140           141   \n",
       "\n",
       "   payment_type  fare_amount  extra  mta_tax  tip_amount  tolls_amount  \\\n",
       "0             1          7.5    1.0      0.5        1.86           0.0   \n",
       "1             1          6.0    1.0      0.5        2.34           0.0   \n",
       "2             2         21.5    1.0      0.5        0.00           0.0   \n",
       "3             1          8.5    1.0      0.5        0.88           0.0   \n",
       "4             1          4.5    0.5      0.5        2.00           0.0   \n",
       "\n",
       "   improvement_surcharge  total_amount  \n",
       "0                    0.3         11.16  \n",
       "1                    0.3         10.14  \n",
       "2                    0.3         23.30  \n",
       "3                    0.3         11.18  \n",
       "4                    0.3          7.80  "
      ]
     },
     "execution_count": 88,
     "metadata": {},
     "output_type": "execute_result"
    }
   ],
   "source": [
    "# examine the data\n",
    "taxi.head()"
   ]
  },
  {
   "cell_type": "code",
   "execution_count": 89,
   "metadata": {},
   "outputs": [
    {
     "data": {
      "text/plain": [
       "VendorID                   int64\n",
       "tpep_pickup_datetime      object\n",
       "tpep_dropoff_datetime     object\n",
       "passenger_count            int64\n",
       "trip_distance            float64\n",
       "RatecodeID                 int64\n",
       "store_and_fwd_flag        object\n",
       "PULocationID               int64\n",
       "DOLocationID               int64\n",
       "payment_type               int64\n",
       "fare_amount              float64\n",
       "extra                    float64\n",
       "mta_tax                  float64\n",
       "tip_amount               float64\n",
       "tolls_amount             float64\n",
       "improvement_surcharge    float64\n",
       "total_amount             float64\n",
       "dtype: object"
      ]
     },
     "execution_count": 89,
     "metadata": {},
     "output_type": "execute_result"
    }
   ],
   "source": [
    "# examine dtypes\n",
    "taxi.dtypes"
   ]
  },
  {
   "cell_type": "code",
   "execution_count": 90,
   "metadata": {},
   "outputs": [
    {
     "data": {
      "text/plain": [
       "VendorID                 0\n",
       "tpep_pickup_datetime     0\n",
       "tpep_dropoff_datetime    0\n",
       "passenger_count          0\n",
       "trip_distance            0\n",
       "RatecodeID               0\n",
       "store_and_fwd_flag       0\n",
       "PULocationID             0\n",
       "DOLocationID             0\n",
       "payment_type             0\n",
       "fare_amount              0\n",
       "extra                    0\n",
       "mta_tax                  0\n",
       "tip_amount               0\n",
       "tolls_amount             0\n",
       "improvement_surcharge    0\n",
       "total_amount             0\n",
       "dtype: int64"
      ]
     },
     "execution_count": 90,
     "metadata": {},
     "output_type": "execute_result"
    }
   ],
   "source": [
    "# checking for nans\n",
    "taxi.isna().sum()\n",
    "# beautiful"
   ]
  },
  {
   "cell_type": "markdown",
   "metadata": {},
   "source": [
    "# Exploring and understanding column content"
   ]
  },
  {
   "cell_type": "markdown",
   "metadata": {},
   "source": [
    "**VendorID**: code indicating the TPEP provider that provided the record. \n",
    "- The TLC (Taxi-Limousine Comission) requires all medallion taxicabs to be equipped with a Taxicab Technology System (“T-PEP”), which processes credit, debit, and prepaid card payments, enables taxicab drivers to receive text messages from the TLC, allows the TLC to collect electronic trip sheet data, and possesses a Passenger Information Monitor (“PIM”), which displays content to taxicab passengers."
   ]
  },
  {
   "cell_type": "code",
   "execution_count": 91,
   "metadata": {},
   "outputs": [
    {
     "data": {
      "text/plain": [
       "2    5281999\n",
       "1    4374994\n",
       "Name: VendorID, dtype: int64"
      ]
     },
     "execution_count": 91,
     "metadata": {},
     "output_type": "execute_result"
    }
   ],
   "source": [
    "# vendorID\n",
    "taxi.VendorID.value_counts()\n",
    "# I don't I'll be very interested in this column for my analysis.\n"
   ]
  },
  {
   "cell_type": "markdown",
   "metadata": {},
   "source": [
    "**passenger_count**: the number of passengers in the vehicle. This is a driver-entered value."
   ]
  },
  {
   "cell_type": "code",
   "execution_count": 92,
   "metadata": {},
   "outputs": [
    {
     "data": {
      "text/plain": [
       "1    6933189\n",
       "2    1385066\n",
       "5     455753\n",
       "3     406162\n",
       "6     288220\n",
       "4     187979\n",
       "0        548\n",
       "8         30\n",
       "7         26\n",
       "9         20\n",
       "Name: passenger_count, dtype: int64"
      ]
     },
     "execution_count": 92,
     "metadata": {},
     "output_type": "execute_result"
    }
   ],
   "source": [
    "taxi.passenger_count.value_counts()\n",
    "\n",
    "# there are some trips with zero passengers. because this is a driver input value,\n",
    "# I think zeros are probably mistakes. In any case they are only 595 in 10M, so we can remove them later."
   ]
  },
  {
   "cell_type": "markdown",
   "metadata": {},
   "source": [
    "**trip_distance**: the elapsed trip distance in miles reported by the taximeter."
   ]
  },
  {
   "cell_type": "code",
   "execution_count": 93,
   "metadata": {},
   "outputs": [
    {
     "name": "stdout",
     "output_type": "stream",
     "text": [
      "count    9.656993e+06\n",
      "mean     2.978617e+00\n",
      "std      5.704095e+00\n",
      "min      0.000000e+00\n",
      "25%      1.000000e+00\n",
      "50%      1.670000e+00\n",
      "75%      3.100000e+00\n",
      "max      9.496980e+03\n",
      "Name: trip_distance, dtype: float64\n"
     ]
    },
    {
     "data": {
      "image/png": "[encoded data removed]",
      "text/plain": [
       "<Figure size 432x288 with 1 Axes>"
      ]
     },
     "metadata": {
      "needs_background": "light"
     },
     "output_type": "display_data"
    }
   ],
   "source": [
    "print(taxi.trip_distance.describe())\n",
    "# the seems to be a 600 mile trip as maximum. This doesn't feel like your normal taxi trip in NYC.\n",
    "# we might be interested in removing these outliers.\n",
    "\n",
    "plt.hist(taxi.trip_distance, bins=100, range=(0, 20));"
   ]
  },
  {
   "cell_type": "markdown",
   "metadata": {},
   "source": [
    "**RatecodeID**: the final rate code in effect at the end of the trip.\n",
    "1. Standard rate\n",
    "2. JFK\n",
    "3. Newark\n",
    "4. Nassau or Westchester\n",
    "5. Negotiated fare\n",
    "6. Group ride\n"
   ]
  },
  {
   "cell_type": "code",
   "execution_count": 94,
   "metadata": {},
   "outputs": [
    {
     "data": {
      "text/plain": [
       "1     9374033\n",
       "2      221857\n",
       "5       33852\n",
       "3       21490\n",
       "4        5439\n",
       "99        231\n",
       "6          91\n",
       "Name: RatecodeID, dtype: int64"
      ]
     },
     "execution_count": 94,
     "metadata": {},
     "output_type": "execute_result"
    }
   ],
   "source": [
    "# ratecodeID\n",
    "taxi.RatecodeID.value_counts()\n",
    "# the number 99 is probably some error in the system\n",
    "# nonetheless, I think I might only be interested in keeping the normal fare, it's most of the data anyway."
   ]
  },
  {
   "cell_type": "markdown",
   "metadata": {},
   "source": [
    "**Store_and_fwd_flag**: this flag indicates whether the trip record was held in vehicle memory before sending to the vendor, aka “store and forward,” because the vehicle did not have a connection to the server."
   ]
  },
  {
   "cell_type": "code",
   "execution_count": 95,
   "metadata": {
    "scrolled": true
   },
   "outputs": [
    {
     "data": {
      "text/plain": [
       "N    9624906\n",
       "Y      32087\n",
       "Name: store_and_fwd_flag, dtype: int64"
      ]
     },
     "execution_count": 95,
     "metadata": {},
     "output_type": "execute_result"
    }
   ],
   "source": [
    "# store and forward\n",
    "taxi.store_and_fwd_flag.value_counts()\n",
    "\n",
    "# doesn't seem to have much interest."
   ]
  },
  {
   "cell_type": "markdown",
   "metadata": {},
   "source": [
    "**PULocationID**: TLC Taxi Zone in which the taximeter was engaged."
   ]
  },
  {
   "cell_type": "code",
   "execution_count": 96,
   "metadata": {},
   "outputs": [
    {
     "data": {
      "text/plain": [
       "237    379701\n",
       "161    358983\n",
       "236    343355\n",
       "162    331577\n",
       "186    328511\n",
       "        ...  \n",
       "27          2\n",
       "104         1\n",
       "109         1\n",
       "176         1\n",
       "245         1\n",
       "Name: PULocationID, Length: 260, dtype: int64"
      ]
     },
     "execution_count": 96,
     "metadata": {},
     "output_type": "execute_result"
    }
   ],
   "source": [
    "# pick-up-location code has 261 unique values\n",
    "taxi.PULocationID.value_counts()\n",
    "\n",
    "# this is a pretty important variable, i'm probably gonna have to think of a way of dealing with those later."
   ]
  },
  {
   "cell_type": "markdown",
   "metadata": {},
   "source": [
    "**DOLocationID**: TLC Taxi Zone in which the taximeter was disengaged."
   ]
  },
  {
   "cell_type": "code",
   "execution_count": 97,
   "metadata": {},
   "outputs": [
    {
     "data": {
      "text/plain": [
       "161    364226\n",
       "236    350744\n",
       "237    332690\n",
       "170    310935\n",
       "230    298762\n",
       "        ...  \n",
       "44         27\n",
       "2          10\n",
       "105         8\n",
       "99          2\n",
       "110         1\n",
       "Name: DOLocationID, Length: 262, dtype: int64"
      ]
     },
     "execution_count": 97,
     "metadata": {},
     "output_type": "execute_result"
    }
   ],
   "source": [
    "# drop-off location has 262 unique values.\n",
    "taxi.DOLocationID.value_counts()"
   ]
  },
  {
   "cell_type": "markdown",
   "metadata": {},
   "source": [
    "**payment_type**: a numeric code signifying how the passenger paid for the trip.\n",
    "1. Credit card\n",
    "2. Cash\n",
    "3. No charge\n",
    "4. Dispute\n",
    "5. Unknown\n",
    "6. Voided trip"
   ]
  },
  {
   "cell_type": "code",
   "execution_count": 98,
   "metadata": {
    "scrolled": true
   },
   "outputs": [
    {
     "data": {
      "text/plain": [
       "1    6514906\n",
       "2    3073865\n",
       "3      52711\n",
       "4      15510\n",
       "5          1\n",
       "Name: payment_type, dtype: int64"
      ]
     },
     "execution_count": 98,
     "metadata": {},
     "output_type": "execute_result"
    }
   ],
   "source": [
    "taxi.payment_type.value_counts()\n",
    "# In the payment type we can observe one of the main problems with the data.\n",
    "# Tips are only included for credit card payments.\n",
    "# We might have to only include these rides in our tip recommendation system."
   ]
  },
  {
   "cell_type": "markdown",
   "metadata": {},
   "source": [
    "**fare_amount**: the time-and-distance fare calculated by the meter."
   ]
  },
  {
   "cell_type": "code",
   "execution_count": 99,
   "metadata": {},
   "outputs": [
    {
     "name": "stdout",
     "output_type": "stream",
     "text": [
      "count    9.656993e+06\n",
      "mean     1.328727e+01\n",
      "std      2.151675e+02\n",
      "min     -5.500000e+02\n",
      "25%      6.500000e+00\n",
      "50%      9.500000e+00\n",
      "75%      1.500000e+01\n",
      "max      6.304618e+05\n",
      "Name: fare_amount, dtype: float64\n"
     ]
    },
    {
     "data": {
      "text/plain": [
       "2     0.988533\n",
       "1     0.009945\n",
       "5     0.001174\n",
       "4     0.000170\n",
       "3     0.000156\n",
       "99    0.000022\n",
       "Name: RatecodeID, dtype: float64"
      ]
     },
     "execution_count": 99,
     "metadata": {},
     "output_type": "execute_result"
    },
    {
     "data": {
      "image/png": "[encoded data removed]",
      "text/plain": [
       "<Figure size 432x288 with 1 Axes>"
      ]
     },
     "metadata": {
      "needs_background": "light"
     },
     "output_type": "display_data"
    }
   ],
   "source": [
    "print(taxi.fare_amount.describe())\n",
    "\n",
    "# it seems like there was a trip worth 175k, that doesn't sound right at all.\n",
    "\n",
    "plt.hist(taxi.fare_amount, bins=100, range=(0, 100));\n",
    "\n",
    "# there's a couple of weird things here:\n",
    "# there are some negative values. if we assume this is an error we can solve it by taking the absolute.\n",
    "# there's always a weird peak at 52$. \n",
    "\n",
    "# taxi.fare_amount.value_counts() here I should detect the peak using the mode between 40-60 or something like that.\n",
    "\n",
    "taxi[taxi.fare_amount == 52]['RatecodeID'].value_counts(normalize=True)\n",
    "\n",
    "# it seems that a lot of this errors come from zone 132.\n",
    "# ok I figured it out, it seems to be something static about the fare from JFK Airport.\n",
    "# this is solves if we only include trips with ratecode 1"
   ]
  },
  {
   "cell_type": "markdown",
   "metadata": {},
   "source": [
    "**extra**: Miscellaneous extras and surcharges. Currently, this only includes the .5 and 1 dollar rush hour and overnight charges."
   ]
  },
  {
   "cell_type": "code",
   "execution_count": 100,
   "metadata": {},
   "outputs": [
    {
     "data": {
      "text/plain": [
       " 0.00     4958655\n",
       " 0.50     3086020\n",
       " 1.00     1568003\n",
       " 4.50       41475\n",
       "-0.50        1582\n",
       "-1.00         679\n",
       " 0.30         224\n",
       " 1.30         102\n",
       "-4.50          79\n",
       " 0.80          72\n",
       " 0.02          19\n",
       " 0.10          16\n",
       " 0.20          13\n",
       " 1.50          12\n",
       " 4.80           6\n",
       " 22.50          6\n",
       " 4.54           5\n",
       " 0.40           3\n",
       "-0.45           2\n",
       " 2.00           2\n",
       " 0.90           2\n",
       " 0.01           2\n",
       " 0.60           2\n",
       " 2.50           1\n",
       " 0.21           1\n",
       "-31.61          1\n",
       "-0.20           1\n",
       " 0.70           1\n",
       " 1.01           1\n",
       "-50.56          1\n",
       "-0.49           1\n",
       "-0.35           1\n",
       " 0.49           1\n",
       " 7.06           1\n",
       " 7.40           1\n",
       "Name: extra, dtype: int64"
      ]
     },
     "execution_count": 100,
     "metadata": {},
     "output_type": "execute_result"
    }
   ],
   "source": [
    "taxi.extra.value_counts()"
   ]
  },
  {
   "cell_type": "markdown",
   "metadata": {},
   "source": [
    "**improvement_surcharge**: 0.30 dollar improvement surcharge assessed trips at the flag drop. The improvement surcharge began being levied in 2015."
   ]
  },
  {
   "cell_type": "code",
   "execution_count": 101,
   "metadata": {},
   "outputs": [
    {
     "data": {
      "text/plain": [
       " 0.3    9648899\n",
       "-0.3       4708\n",
       " 0.0       3364\n",
       " 1.0         22\n",
       "Name: improvement_surcharge, dtype: int64"
      ]
     },
     "execution_count": 101,
     "metadata": {},
     "output_type": "execute_result"
    }
   ],
   "source": [
    "# this charge seems to be present in all of the trips so it doesn't have much information.\n",
    "taxi.improvement_surcharge.value_counts()"
   ]
  },
  {
   "cell_type": "code",
   "execution_count": 102,
   "metadata": {
    "scrolled": true
   },
   "outputs": [
    {
     "data": {
      "text/plain": [
       " 0.50      9605702\n",
       " 0.00        45982\n",
       "-0.50         4576\n",
       " 0.85          655\n",
       " 0.25           56\n",
       " 3.00            6\n",
       " 0.32            2\n",
       " 140.00          1\n",
       " 32.41           1\n",
       " 24.00           1\n",
       " 31.00           1\n",
       " 43.00           1\n",
       " 97.75           1\n",
       " 51.36           1\n",
       " 11.30           1\n",
       " 10.30           1\n",
       " 0.90            1\n",
       " 53.80           1\n",
       " 31.55           1\n",
       " 14.65           1\n",
       " 1.30            1\n",
       "Name: mta_tax, dtype: int64"
      ]
     },
     "execution_count": 102,
     "metadata": {},
     "output_type": "execute_result"
    }
   ],
   "source": [
    "# this column is the same as the improvement surcharge.\n",
    "taxi.mta_tax.value_counts()"
   ]
  },
  {
   "cell_type": "markdown",
   "metadata": {},
   "source": [
    "**tip_amount**: This field is automatically populated for credit card tips. Cash tips are not included."
   ]
  },
  {
   "cell_type": "code",
   "execution_count": 103,
   "metadata": {},
   "outputs": [
    {
     "data": {
      "text/plain": [
       "count    9.656993e+06\n",
       "mean     1.878480e+00\n",
       "std      2.696221e+00\n",
       "min     -7.400000e+01\n",
       "25%      0.000000e+00\n",
       "50%      1.360000e+00\n",
       "75%      2.460000e+00\n",
       "max      4.440000e+02\n",
       "Name: tip_amount, dtype: float64"
      ]
     },
     "execution_count": 103,
     "metadata": {},
     "output_type": "execute_result"
    }
   ],
   "source": [
    "# the target variable for our purposes\n",
    "taxi.tip_amount.describe()\n",
    "#plt.hist(taxi.tip_amount, bins=100);"
   ]
  },
  {
   "cell_type": "markdown",
   "metadata": {},
   "source": [
    "**toll_amount**: Total amount of all tolls paid in trip. "
   ]
  },
  {
   "cell_type": "code",
   "execution_count": 104,
   "metadata": {},
   "outputs": [
    {
     "data": {
      "image/png": "[encoded data removed]",
      "text/plain": [
       "<Figure size 432x288 with 1 Axes>"
      ]
     },
     "metadata": {
      "needs_background": "light"
     },
     "output_type": "display_data"
    }
   ],
   "source": [
    "taxi.tolls_amount.value_counts()\n",
    "plt.hist(taxi.tolls_amount, log=True);"
   ]
  },
  {
   "cell_type": "code",
   "execution_count": 105,
   "metadata": {},
   "outputs": [],
   "source": [
    "# transforming to datetime\n",
    "taxi['tpep_pickup_datetime'] = pd.to_datetime(taxi['tpep_pickup_datetime'])\n",
    "taxi['tpep_dropoff_datetime'] = pd.to_datetime(taxi['tpep_dropoff_datetime'])"
   ]
  },
  {
   "cell_type": "code",
   "execution_count": 106,
   "metadata": {},
   "outputs": [],
   "source": [
    "taxi['duration'] = taxi['tpep_dropoff_datetime'] - taxi['tpep_pickup_datetime']\n",
    "taxi['duration'] = taxi['duration'].dt.seconds/60\n",
    "taxi['weekday'] = [x.weekday() for x in taxi['tpep_pickup_datetime']]\n",
    "taxi['hour'] = taxi['tpep_pickup_datetime'].dt.hour"
   ]
  },
  {
   "cell_type": "markdown",
   "metadata": {},
   "source": [
    "# Data cleaning"
   ]
  },
  {
   "cell_type": "code",
   "execution_count": 107,
   "metadata": {},
   "outputs": [
    {
     "data": {
      "text/plain": [
       "Index(['VendorID', 'tpep_pickup_datetime', 'tpep_dropoff_datetime',\n",
       "       'passenger_count', 'trip_distance', 'RatecodeID', 'store_and_fwd_flag',\n",
       "       'PULocationID', 'DOLocationID', 'payment_type', 'fare_amount', 'extra',\n",
       "       'mta_tax', 'tip_amount', 'tolls_amount', 'improvement_surcharge',\n",
       "       'total_amount', 'duration', 'weekday', 'hour'],\n",
       "      dtype='object')"
      ]
     },
     "execution_count": 107,
     "metadata": {},
     "output_type": "execute_result"
    }
   ],
   "source": [
    "taxi.columns"
   ]
  },
  {
   "cell_type": "code",
   "execution_count": 108,
   "metadata": {},
   "outputs": [],
   "source": [
    "# droping columns\n",
    "drop_cols = ['VendorID', 'store_and_fwd_flag', 'mta_tax', 'improvement_surcharge', 'tpep_pickup_datetime', 'tpep_dropoff_datetime']\n",
    "taxi.drop(labels=drop_cols, axis=1, inplace=True)"
   ]
  },
  {
   "cell_type": "code",
   "execution_count": 109,
   "metadata": {},
   "outputs": [],
   "source": [
    "# removing 0 passengers\n",
    "taxi = taxi[(taxi.passenger_count != 0) & (taxi.RatecodeID == 1) & (taxi.payment_type == 1)]"
   ]
  },
  {
   "cell_type": "code",
   "execution_count": 110,
   "metadata": {},
   "outputs": [
    {
     "data": {
      "image/png": "[encoded data removed]",
      "text/plain": [
       "<Figure size 432x288 with 1 Axes>"
      ]
     },
     "metadata": {
      "needs_background": "light"
     },
     "output_type": "display_data"
    }
   ],
   "source": [
    "plt.hist(taxi.fare_amount, bins=100);"
   ]
  },
  {
   "cell_type": "code",
   "execution_count": 111,
   "metadata": {},
   "outputs": [
    {
     "name": "stderr",
     "output_type": "stream",
     "text": [
      "C:\\Users\\Zaca\\Anaconda3\\lib\\site-packages\\scipy\\stats\\stats.py:2419: RuntimeWarning: invalid value encountered in true_divide\n",
      "  return (a - mns) / sstd\n"
     ]
    }
   ],
   "source": [
    "z = np.abs(stats.zscore(taxi))"
   ]
  },
  {
   "cell_type": "code",
   "execution_count": 112,
   "metadata": {},
   "outputs": [
    {
     "name": "stderr",
     "output_type": "stream",
     "text": [
      "C:\\Users\\Zaca\\Anaconda3\\lib\\site-packages\\ipykernel_launcher.py:1: RuntimeWarning: invalid value encountered in less\n",
      "  \"\"\"Entry point for launching an IPython kernel.\n"
     ]
    }
   ],
   "source": [
    "taxi_o = taxi[(z < 3).all(axis=1)]"
   ]
  },
  {
   "cell_type": "code",
   "execution_count": 114,
   "metadata": {},
   "outputs": [
    {
     "data": {
      "text/plain": [
       "array([[3.482209  , 0.59106317,        nan, ..., 0.13910571, 0.02053249,\n",
       "        1.04355056],\n",
       "       [3.482209  , 0.59106317,        nan, ..., 0.20376272, 0.02053249,\n",
       "        0.88734194],\n",
       "       [3.482209  , 0.45065351,        nan, ..., 0.10304075, 0.02053249,\n",
       "        0.20611837],\n",
       "       ...,\n",
       "       [0.48404603, 0.63669631,        nan, ..., 0.03188555, 0.02053249,\n",
       "        0.36232699],\n",
       "       [0.30920497, 4.1793551 ,        nan, ..., 1.15858314, 0.02053249,\n",
       "        0.36232699],\n",
       "       [0.48404603, 0.34885651,        nan, ..., 0.05064148, 0.02053249,\n",
       "        0.36232699]])"
      ]
     },
     "execution_count": 114,
     "metadata": {},
     "output_type": "execute_result"
    }
   ],
   "source": [
    "z"
   ]
  },
  {
   "cell_type": "code",
   "execution_count": null,
   "metadata": {},
   "outputs": [],
   "source": []
  },
  {
   "cell_type": "code",
   "execution_count": null,
   "metadata": {},
   "outputs": [],
   "source": []
  }
 ],
 "metadata": {
  "kernelspec": {
   "display_name": "Python 3",
   "language": "python",
   "name": "python3"
  },
  "language_info": {
   "codemirror_mode": {
    "name": "ipython",
    "version": 3
   },
   "file_extension": ".py",
   "mimetype": "text/x-python",
   "name": "python",
   "nbconvert_exporter": "python",
   "pygments_lexer": "ipython3",
   "version": "3.7.6"
  }
 },
 "nbformat": 4,
 "nbformat_minor": 4
}
